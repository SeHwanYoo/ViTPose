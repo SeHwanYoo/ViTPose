{
 "cells": [
  {
   "cell_type": "code",
   "execution_count": 20,
   "metadata": {},
   "outputs": [],
   "source": [
    "import json\n",
    "import os\n",
    "import pandas as pd\n",
    "import numpy as np"
   ]
  },
  {
   "cell_type": "code",
   "execution_count": 21,
   "metadata": {},
   "outputs": [],
   "source": [
    "# img = '000000.png' \n",
    "# img_id = 534600936\n",
    "# head = [85.56447, 24.732826]\n",
    "# eye_r = [77.036545, 61.643562]\n",
    "# eye_l = [88.15402, 62.289528]\n",
    "# neck = [87.04971, 83.33402] \n",
    "\n",
    "img_id = []\n",
    "head = [] \n",
    "\n",
    "f = open('C:/Users/user/Desktop/models/vitpose/20221015/result_keypoints.txt', 'r')\n",
    "    # print(f)\n",
    "while True:\n",
    "    line = f.readline()\n",
    "    if not line: break \n",
    "    img_id_axis = line.split('//')[1].replace(' ', '')\n",
    "    img_id.append(int(img_id_axis))\n",
    "    head_axis = line.split('//')[2].split('],')[0].replace('[', '').replace(' ', '').split(',')\n",
    "    head.append([head_axis[0], head_axis[1]])\n",
    "    \n",
    "f.close() \n",
    "\n",
    "# head, img_id\n",
    "# img_id"
   ]
  },
  {
   "cell_type": "code",
   "execution_count": 22,
   "metadata": {},
   "outputs": [],
   "source": [
    "def calc_distance(arr1, arr2):\n",
    "    arr1 = np.array(arr1, dtype=float)\n",
    "    arr2 = np.array(arr2, dtype=float)\n",
    "    \n",
    "    return np.linalg.norm(arr1 - arr2)"
   ]
  },
  {
   "cell_type": "code",
   "execution_count": 26,
   "metadata": {},
   "outputs": [],
   "source": [
    "path = 'E:/22.9.21/GM/openpose/custom_dataset/annotations'\n",
    "# paths = ['train', 'test', 'valid']\n",
    "paths = os.path.join(path, 'test_baby_keypoints.json')\n",
    "\n",
    "# coco = [] \n",
    "# for p in paths:\n",
    "#     valid_path = os.path.join(path, f'{p}_baby_keypoints.json')\n",
    "    \n",
    "with open(paths, 'r') as f:\n",
    "    json_data = json.load(f)\n",
    "        "
   ]
  },
  {
   "cell_type": "code",
   "execution_count": 29,
   "metadata": {},
   "outputs": [
    {
     "name": "stdout",
     "output_type": "stream",
     "text": [
      "0.1 threhold : 69.49516648764768\n",
      "0.2 threhold : 90.37593984962406\n",
      "0.3 threhold : 94.39312567132117\n",
      "0.4 threhold : 95.23093447905478\n",
      "0.5 threhold : 95.25241675617615\n",
      "0.6 threhold : 95.25241675617615\n",
      "0.7 threhold : 95.25241675617615\n",
      "0.8 threhold : 95.25241675617615\n",
      "0.9 threhold : 95.48872180451127\n",
      "1.0 threhold : 96.04726100966703\n"
     ]
    }
   ],
   "source": [
    "    \n",
    "for ii in range(10):     \n",
    "    pckh = 0 \n",
    "    total = 0 \n",
    "    for ann in json_data['annotations']:\n",
    "        idx = img_id.index(ann['image_id'])\n",
    "        \n",
    "        thr = calc_distance([ann['keypoints'][0], ann['keypoints'][1]], [ann['keypoints'][9], ann['keypoints'][10]]) * ((ii+1) / 10)\n",
    "        # print(thr / 2)\n",
    "        dist = calc_distance(head[idx], [ann['keypoints'][0], ann['keypoints'][1]])\n",
    "        \n",
    "        if dist <= thr:\n",
    "            pckh += 1\n",
    "            \n",
    "        total += 1\n",
    "        \n",
    "        # coco_data = {}\n",
    "        # /print(f\"------------------->{ann['image_id']}\")\n",
    "        # print(f\"'------------------->{ann['bbox']}\")\n",
    "        \n",
    "        # coco_data['bbox'] = ann['bbox']\n",
    "        # coco_data['category_id'] = ann['category_id']\n",
    "        # coco_data['image_id'] = ann['image_id']\n",
    "        # coco_data['score'] = 1\n",
    "        \n",
    "        # coco.append(coco_data)\n",
    "        # if img_id == ann['image_id']:\n",
    "        # print(f\"'------------------->{ann['keypoints']}\")\n",
    "        # print(f\"head : {calc_distance(head, [ann['keypoints'][0], ann['keypoints'][1]])}\")\n",
    "        # print(f\"eye_r : {calc_distance(eye_r, [ann['keypoints'][3], ann['keypoints'][4]])}\")\n",
    "        # print(f\"eye_l : {calc_distance(eye_l, [ann['keypoints'][6], ann['keypoints'][7]])}\")\n",
    "        # print(f\"neck : {calc_distance(neck, [ann['keypoints'][9], ann['keypoints'][10]])}\")\n",
    "                \n",
    "    print(f'{(ii + 1)/10} threhold : {pckh / total * 100}')\n"
   ]
  },
  {
   "cell_type": "code",
   "execution_count": 9,
   "metadata": {},
   "outputs": [],
   "source": [
    "path = 'C:/Users/user/Desktop/models/vitpose/20221015'\n",
    "logs = os.path.join(path, '20221014_104238.log.json')\n",
    "\n",
    "data = [] \n",
    "# with open(logs, 'r') as f:\n",
    "#     data.append(json.load(f))\n",
    "    \n",
    "# data    \n",
    "for j in open(logs, 'r'):\n",
    "    data.append(json.loads(j))\n",
    "    \n",
    "# data"
   ]
  },
  {
   "cell_type": "code",
   "execution_count": 32,
   "metadata": {},
   "outputs": [],
   "source": [
    "# data =[] \n",
    "# data[1]\n",
    "\n",
    "# {'mode': 'train', 'epoch': 1, 'iter': 850, 'lr': 1e-05, 'memory': 4046, 'data_time': 0.00042, 'heatmap_loss': 0.00148, 'acc_pose': 0.7301, 'loss': 0.00148, 'grad_norm': 0.00872, 'time': 0.10553}\n",
    "\n",
    "# {\"mode\": \"val\", \"epoch\": 60, \"iter\": 609, \"lr\": 1e-05, \"AP\": 0.9742, \"AP .5\": 1.0, \"AP .75\": 0.98993, \"AP (M)\": -1.0, \"AP (L)\": 0.9742, \"AR\": 0.97719, \"AR .5\": 1.0, \"AR .75\": 0.99384, \"AR (M)\": -1.0, \"AR (L)\": 0.97719}\n",
    "\n",
    "\n",
    "\n",
    "heatmap_loss = []\n",
    "acc_pose = [] \n",
    "loss = [] \n",
    "grad_norm = []\n",
    "\n",
    "\n",
    "ap = []\n",
    "ap_5 = []\n",
    "ap_75 = [] \n",
    "ap_m = [] \n",
    "ap_l = [] \n",
    "\n",
    "ar = [] \n",
    "ar_5 = [] \n",
    "ar_75 = [] \n",
    "ar_m = [] \n",
    "ar_l = [] \n",
    "\n",
    "for ii in range(1, len(data)-1):\n",
    "    # print(data[ii])\n",
    "    # ii_data = data[ii]\n",
    "    # print(ii_data[ii_data['mode'] == 'train']['mode'])\n",
    "    if data[ii]['mode'] == 'train':\n",
    "        # print(1)\n",
    "        if data[ii]['iter'] >= 850:\n",
    "            # print(data[ii]['epoch'], ' Epoch')\n",
    "            heatmap_loss.append(data[ii]['heatmap_loss'])\n",
    "            acc_pose.append(data[ii]['acc_pose'])\n",
    "            loss.append(data[ii]['loss'])\n",
    "            grad_norm.append(data[ii]['grad_norm'])\n",
    "            \n",
    "    elif data[ii]['mode'] == 'val':\n",
    "        ap.append(data[ii]['AP'])\n",
    "        ap_5.append(data[ii]['AP .5'])\n",
    "        ap_75.append(data[ii]['AP .75']) \n",
    "        ap_m.append(data[ii]['AP (M)']) \n",
    "        ap_l.append(data[ii]['AP (L)']) \n",
    "\n",
    "        ar.append(data[ii]['AR']) \n",
    "        ar_5.append(data[ii]['AR .5']) \n",
    "        ar_75.append(data[ii]['AR .75']) \n",
    "        ar_m.append(data[ii]['AR (M)']) \n",
    "        ar_l.append(data[ii]['AR (L)']) "
   ]
  },
  {
   "cell_type": "code",
   "execution_count": 41,
   "metadata": {},
   "outputs": [
    {
     "data": {
      "image/png": "[encoded data removed]",
      "text/plain": [
       "<Figure size 432x288 with 1 Axes>"
      ]
     },
     "metadata": {
      "needs_background": "light"
     },
     "output_type": "display_data"
    }
   ],
   "source": [
    "import matplotlib.pyplot as plt\n",
    "\n",
    "# heatmap_loss = []\n",
    "# acc_pose = [] \n",
    "# loss = [] \n",
    "# grad_norm = [] \n",
    "\n",
    "plt.plot(heatmap_loss, label='heatmap_loss')\n",
    "plt.plot(acc_pose, label='acc_pose')\n",
    "plt.plot(loss, '--', label='loss')\n",
    "plt.plot(grad_norm, '--', label='grad_norm')\n",
    "plt.legend(loc=(1.05, 0.02))\n",
    "plt.title('Train Evaluation')\n",
    "plt.xlabel('Epoch')\n",
    "plt.show()"
   ]
  },
  {
   "cell_type": "code",
   "execution_count": 42,
   "metadata": {},
   "outputs": [
    {
     "data": {
      "image/png": "[encoded data removed]",
      "text/plain": [
       "<Figure size 432x288 with 1 Axes>"
      ]
     },
     "metadata": {
      "needs_background": "light"
     },
     "output_type": "display_data"
    }
   ],
   "source": [
    "x_axis = range(0, len(ap) * 10, 10)\n",
    "plt.plot(x_axis, ap, label='AP')\n",
    "plt.plot(x_axis, ap_5, label='AP .5')\n",
    "plt.plot(x_axis, ap_75, label='AP .75')\n",
    "plt.plot(x_axis, ap_m, label='AP (M)')\n",
    "plt.plot(x_axis, ap_l, label='AP (L)')\n",
    "\n",
    "plt.plot(x_axis, ap, '--', label='AR')\n",
    "plt.plot(x_axis, ap_5, '--', label='AR .5')\n",
    "plt.plot(x_axis, ap_75, '--', label='AR .75')\n",
    "plt.plot(x_axis, ap_m, '--', label='AR (M)')\n",
    "plt.plot(x_axis, ap_l, '--', label='AR (L)')\n",
    "\n",
    "\n",
    "plt.legend(loc=(1.05, 0.02))\n",
    "plt.title('Validation Evaluation')\n",
    "plt.xlabel('Epoch')\n",
    "# plt.ylabel('Epoch')\n",
    "plt.show()"
   ]
  },
  {
   "cell_type": "code",
   "execution_count": null,
   "metadata": {},
   "outputs": [],
   "source": []
  }
 ],
 "metadata": {
  "kernelspec": {
   "display_name": "Python 3.9.12 ('base')",
   "language": "python",
   "name": "python3"
  },
  "language_info": {
   "codemirror_mode": {
    "name": "ipython",
    "version": 3
   },
   "file_extension": ".py",
   "mimetype": "text/x-python",
   "name": "python",
   "nbconvert_exporter": "python",
   "pygments_lexer": "ipython3",
   "version": "3.9.12"
  },
  "orig_nbformat": 4,
  "vscode": {
   "interpreter": {
    "hash": "19d1d53a962d236aa061289c2ac16dc8e6d9648c89fe79f459ae9a3493bc67b4"
   }
  }
 },
 "nbformat": 4,
 "nbformat_minor": 2
}
