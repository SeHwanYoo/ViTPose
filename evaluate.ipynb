{
 "cells": [
  {
   "cell_type": "code",
   "execution_count": 2,
   "metadata": {},
   "outputs": [],
   "source": [
    "import json\n",
    "import os\n",
    "import pandas as pd\n",
    "import numpy as np"
   ]
  },
  {
   "cell_type": "code",
   "execution_count": 19,
   "metadata": {},
   "outputs": [],
   "source": [
    "# img = '000000.png' \n",
    "# img_id = 534600936\n",
    "# head = [85.56447, 24.732826]\n",
    "# eye_r = [77.036545, 61.643562]\n",
    "# eye_l = [88.15402, 62.289528]\n",
    "# neck = [87.04971, 83.33402] \n",
    "\n",
    "img_id = []\n",
    "head = [] \n",
    "\n",
    "f = open('C:/Users/user/Desktop/models/vitpose/20221015/result_keypoints.txt', 'r')\n",
    "    # print(f)\n",
    "while True:\n",
    "    line = f.readline()\n",
    "    if not line: break \n",
    "    img_id_axis = line.split('//')[1].replace(' ', '')\n",
    "    img_id.append(int(img_id_axis))\n",
    "    head_axis = line.split('//')[2].split('],')[0].replace('[', '').replace(' ', '').split(',')\n",
    "    head.append([head_axis[0], head_axis[1]])\n",
    "    \n",
    "f.close() \n",
    "\n",
    "# head, img_id\n",
    "# img_id"
   ]
  },
  {
   "cell_type": "code",
   "execution_count": 20,
   "metadata": {},
   "outputs": [],
   "source": [
    "def calc_distance(arr1, arr2):\n",
    "    arr1 = np.array(arr1, dtype=float)\n",
    "    arr2 = np.array(arr2, dtype=float)\n",
    "    \n",
    "    return np.linalg.norm(arr1 - arr2)"
   ]
  },
  {
   "cell_type": "code",
   "execution_count": 5,
   "metadata": {},
   "outputs": [],
   "source": [
    "path = 'E:/22.9.21/GM/openpose/custom_dataset/annotations'\n",
    "# paths = ['train', 'test', 'valid']\n",
    "paths = os.path.join(path, 'test_baby_keypoints.json')\n",
    "\n",
    "# coco = [] \n",
    "# for p in paths:\n",
    "#     valid_path = os.path.join(path, f'{p}_baby_keypoints.json')\n",
    "    \n",
    "with open(paths, 'r') as f:\n",
    "    json_data = json.load(f)\n",
    "        "
   ]
  },
  {
   "cell_type": "code",
   "execution_count": null,
   "metadata": {},
   "outputs": [],
   "source": []
  },
  {
   "cell_type": "code",
   "execution_count": 26,
   "metadata": {},
   "outputs": [
    {
     "name": "stdout",
     "output_type": "stream",
     "text": [
      "0.01 threhold : 5.177228786251343\n",
      "0.02 threhold : 14.52201933404941\n",
      "0.03 threhold : 24.146079484425346\n",
      "0.04 threhold : 33.77013963480129\n",
      "0.05 threhold : 41.997851772287866\n",
      "0.06 threhold : 49.23737916219119\n",
      "0.07 threhold : 55.85392051557465\n",
      "0.08 threhold : 61.568206229860365\n",
      "0.09 threhold : 65.77873254564985\n",
      "0.1 threhold : 69.49516648764768\n",
      "0.11 threhold : 72.73899033297529\n",
      "0.12 threhold : 76.00429645542427\n",
      "0.13 threhold : 78.34586466165413\n",
      "0.14 threhold : 80.90225563909775\n",
      "0.15 threhold : 83.05048335123523\n",
      "0.16 threhold : 85.06981740064447\n",
      "0.17 threhold : 86.61654135338345\n",
      "0.18 threhold : 87.9484425349087\n",
      "0.19 threhold : 89.30182599355531\n",
      "0.2 threhold : 90.37593984962406\n",
      "0.21 threhold : 91.1922663802363\n",
      "0.22 threhold : 91.94414607948443\n",
      "0.23 threhold : 92.43823845327604\n",
      "0.24 threhold : 92.69602577873255\n",
      "0.25 threhold : 92.9967776584318\n",
      "0.26 threhold : 93.27604726100967\n",
      "0.27 threhold : 93.72717508055854\n",
      "0.28 threhold : 94.07089151450053\n",
      "0.29 threhold : 94.30719656283566\n",
      "0.3 threhold : 94.39312567132117\n",
      "0.31 threhold : 94.6938775510204\n",
      "0.32 threhold : 94.84425349087003\n",
      "0.33 threhold : 94.95166487647691\n",
      "0.34 threhold : 95.03759398496241\n",
      "0.35 threhold : 95.03759398496241\n",
      "0.36 threhold : 95.10204081632652\n",
      "0.37 threhold : 95.1235230934479\n",
      "0.38 threhold : 95.16648764769066\n",
      "0.39 threhold : 95.2094522019334\n",
      "0.4 threhold : 95.23093447905478\n",
      "0.41 threhold : 95.23093447905478\n",
      "0.42 threhold : 95.23093447905478\n",
      "0.43 threhold : 95.25241675617615\n",
      "0.44 threhold : 95.25241675617615\n",
      "0.45 threhold : 95.25241675617615\n",
      "0.46 threhold : 95.25241675617615\n",
      "0.47 threhold : 95.25241675617615\n",
      "0.48 threhold : 95.25241675617615\n",
      "0.49 threhold : 95.25241675617615\n",
      "0.5 threhold : 95.25241675617615\n",
      "0.51 threhold : 95.25241675617615\n",
      "0.52 threhold : 95.25241675617615\n",
      "0.53 threhold : 95.25241675617615\n",
      "0.54 threhold : 95.25241675617615\n",
      "0.55 threhold : 95.25241675617615\n",
      "0.56 threhold : 95.25241675617615\n",
      "0.57 threhold : 95.25241675617615\n",
      "0.58 threhold : 95.25241675617615\n",
      "0.59 threhold : 95.25241675617615\n",
      "0.6 threhold : 95.25241675617615\n",
      "0.61 threhold : 95.25241675617615\n",
      "0.62 threhold : 95.25241675617615\n",
      "0.63 threhold : 95.25241675617615\n",
      "0.64 threhold : 95.25241675617615\n",
      "0.65 threhold : 95.25241675617615\n",
      "0.66 threhold : 95.25241675617615\n",
      "0.67 threhold : 95.25241675617615\n",
      "0.68 threhold : 95.25241675617615\n",
      "0.69 threhold : 95.25241675617615\n",
      "0.7 threhold : 95.25241675617615\n",
      "0.71 threhold : 95.25241675617615\n",
      "0.72 threhold : 95.25241675617615\n",
      "0.73 threhold : 95.25241675617615\n",
      "0.74 threhold : 95.25241675617615\n",
      "0.75 threhold : 95.25241675617615\n",
      "0.76 threhold : 95.25241675617615\n",
      "0.77 threhold : 95.25241675617615\n",
      "0.78 threhold : 95.25241675617615\n",
      "0.79 threhold : 95.25241675617615\n",
      "0.8 threhold : 95.25241675617615\n",
      "0.81 threhold : 95.25241675617615\n",
      "0.82 threhold : 95.25241675617615\n",
      "0.83 threhold : 95.27389903329752\n",
      "0.84 threhold : 95.27389903329752\n",
      "0.85 threhold : 95.27389903329752\n",
      "0.86 threhold : 95.27389903329752\n",
      "0.87 threhold : 95.31686358754028\n",
      "0.88 threhold : 95.3813104189044\n",
      "0.89 threhold : 95.44575725026853\n",
      "0.9 threhold : 95.48872180451127\n",
      "0.91 threhold : 95.61761546723953\n",
      "0.92 threhold : 95.68206229860365\n",
      "0.93 threhold : 95.72502685284641\n",
      "0.94 threhold : 95.74650912996778\n",
      "0.95 threhold : 95.83243823845328\n",
      "0.96 threhold : 95.87540279269604\n",
      "0.97 threhold : 95.8968850698174\n",
      "0.98 threhold : 95.96133190118152\n",
      "0.99 threhold : 96.02577873254565\n",
      "1.0 threhold : 96.04726100966703\n"
     ]
    }
   ],
   "source": [
    "pchk_list = []\n",
    "# idx = - \n",
    "for ii in range(100):     \n",
    "    ii = (ii + 1) / 100\n",
    "    pckh = 0 \n",
    "    total = 0 \n",
    "    for ann in json_data['annotations']:\n",
    "        idx = img_id.index(ann['image_id'])\n",
    "        \n",
    "        thr = calc_distance([ann['keypoints'][0], ann['keypoints'][1]], [ann['keypoints'][9], ann['keypoints'][10]]) * ii\n",
    "        # print(thr / 2)\n",
    "        dist = calc_distance(head[idx], [ann['keypoints'][0], ann['keypoints'][1]])\n",
    "        \n",
    "        if dist <= thr:\n",
    "            pckh += 1\n",
    "            \n",
    "        total += 1\n",
    "        \n",
    "    \n",
    "        \n",
    "        # coco_data = {}\n",
    "        # /print(f\"------------------->{ann['image_id']}\")\n",
    "        # print(f\"'------------------->{ann['bbox']}\")\n",
    "        \n",
    "        # coco_data['bbox'] = ann['bbox']\n",
    "        # coco_data['category_id'] = ann['category_id']\n",
    "        # coco_data['image_id'] = ann['image_id']\n",
    "        # coco_data['score'] = 1\n",
    "        \n",
    "        # coco.append(coco_data)\n",
    "        # if img_id == ann['image_id']:\n",
    "        # print(f\"'------------------->{ann['keypoints']}\")\n",
    "        # print(f\"head : {calc_distance(head, [ann['keypoints'][0], ann['keypoints'][1]])}\")\n",
    "        # print(f\"eye_r : {calc_distance(eye_r, [ann['keypoints'][3], ann['keypoints'][4]])}\")\n",
    "        # print(f\"eye_l : {calc_distance(eye_l, [ann['keypoints'][6], ann['keypoints'][7]])}\")\n",
    "        # print(f\"neck : {calc_distance(neck, [ann['keypoints'][9], ann['keypoints'][10]])}\")\n",
    "    pchk_list.append(pckh / total * 100)            \n",
    "    print(f'{ii} threhold : {pckh / total * 100}')\n"
   ]
  },
  {
   "cell_type": "code",
   "execution_count": 27,
   "metadata": {},
   "outputs": [
    {
     "data": {
      "text/plain": [
       "100"
      ]
     },
     "execution_count": 27,
     "metadata": {},
     "output_type": "execute_result"
    }
   ],
   "source": [
    "len(pchk_list)"
   ]
  },
  {
   "cell_type": "code",
   "execution_count": 32,
   "metadata": {},
   "outputs": [
    {
     "data": {
      "text/plain": [
       "Text(0.5, 0, 'N')"
      ]
     },
     "execution_count": 32,
     "metadata": {},
     "output_type": "execute_result"
    },
    {
     "data": {
      "image/png": "[encoded data removed]",
      "text/plain": [
       "<Figure size 1440x360 with 1 Axes>"
      ]
     },
     "metadata": {
      "needs_background": "light"
     },
     "output_type": "display_data"
    }
   ],
   "source": [
    "import matplotlib.pyplot as plt\n",
    "# pchk_list\n",
    "plt.figure(figsize=(20, 5))\n",
    "plt.plot(range(100), pchk_list)\n",
    "plt.ylabel('PCKh@n')\n",
    "plt.xlabel('N')"
   ]
  },
  {
   "cell_type": "code",
   "execution_count": 9,
   "metadata": {},
   "outputs": [],
   "source": [
    "path = 'C:/Users/user/Desktop/models/vitpose/20221015'\n",
    "logs = os.path.join(path, '20221014_104238.log.json')\n",
    "\n",
    "data = [] \n",
    "# with open(logs, 'r') as f:\n",
    "#     data.append(json.load(f))\n",
    "    \n",
    "# data    \n",
    "for j in open(logs, 'r'):\n",
    "    data.append(json.loads(j))\n",
    "    \n",
    "# data"
   ]
  },
  {
   "cell_type": "code",
   "execution_count": 32,
   "metadata": {},
   "outputs": [],
   "source": [
    "# data =[] \n",
    "# data[1]\n",
    "\n",
    "# {'mode': 'train', 'epoch': 1, 'iter': 850, 'lr': 1e-05, 'memory': 4046, 'data_time': 0.00042, 'heatmap_loss': 0.00148, 'acc_pose': 0.7301, 'loss': 0.00148, 'grad_norm': 0.00872, 'time': 0.10553}\n",
    "\n",
    "# {\"mode\": \"val\", \"epoch\": 60, \"iter\": 609, \"lr\": 1e-05, \"AP\": 0.9742, \"AP .5\": 1.0, \"AP .75\": 0.98993, \"AP (M)\": -1.0, \"AP (L)\": 0.9742, \"AR\": 0.97719, \"AR .5\": 1.0, \"AR .75\": 0.99384, \"AR (M)\": -1.0, \"AR (L)\": 0.97719}\n",
    "\n",
    "\n",
    "\n",
    "heatmap_loss = []\n",
    "acc_pose = [] \n",
    "loss = [] \n",
    "grad_norm = []\n",
    "\n",
    "\n",
    "ap = []\n",
    "ap_5 = []\n",
    "ap_75 = [] \n",
    "ap_m = [] \n",
    "ap_l = [] \n",
    "\n",
    "ar = [] \n",
    "ar_5 = [] \n",
    "ar_75 = [] \n",
    "ar_m = [] \n",
    "ar_l = [] \n",
    "\n",
    "for ii in range(1, len(data)-1):\n",
    "    # print(data[ii])\n",
    "    # ii_data = data[ii]\n",
    "    # print(ii_data[ii_data['mode'] == 'train']['mode'])\n",
    "    if data[ii]['mode'] == 'train':\n",
    "        # print(1)\n",
    "        if data[ii]['iter'] >= 850:\n",
    "            # print(data[ii]['epoch'], ' Epoch')\n",
    "            heatmap_loss.append(data[ii]['heatmap_loss'])\n",
    "            acc_pose.append(data[ii]['acc_pose'])\n",
    "            loss.append(data[ii]['loss'])\n",
    "            grad_norm.append(data[ii]['grad_norm'])\n",
    "            \n",
    "    elif data[ii]['mode'] == 'val':\n",
    "        ap.append(data[ii]['AP'])\n",
    "        ap_5.append(data[ii]['AP .5'])\n",
    "        ap_75.append(data[ii]['AP .75']) \n",
    "        ap_m.append(data[ii]['AP (M)']) \n",
    "        ap_l.append(data[ii]['AP (L)']) \n",
    "\n",
    "        ar.append(data[ii]['AR']) \n",
    "        ar_5.append(data[ii]['AR .5']) \n",
    "        ar_75.append(data[ii]['AR .75']) \n",
    "        ar_m.append(data[ii]['AR (M)']) \n",
    "        ar_l.append(data[ii]['AR (L)']) "
   ]
  },
  {
   "cell_type": "code",
   "execution_count": 41,
   "metadata": {},
   "outputs": [
    {
     "data": {
      "image/png": "[encoded data removed]",
      "text/plain": [
       "<Figure size 432x288 with 1 Axes>"
      ]
     },
     "metadata": {
      "needs_background": "light"
     },
     "output_type": "display_data"
    }
   ],
   "source": [
    "import matplotlib.pyplot as plt\n",
    "\n",
    "# heatmap_loss = []\n",
    "# acc_pose = [] \n",
    "# loss = [] \n",
    "# grad_norm = [] \n",
    "\n",
    "plt.plot(heatmap_loss, label='heatmap_loss')\n",
    "plt.plot(acc_pose, label='acc_pose')\n",
    "plt.plot(loss, '--', label='loss')\n",
    "plt.plot(grad_norm, '--', label='grad_norm')\n",
    "plt.legend(loc=(1.05, 0.02))\n",
    "plt.title('Train Evaluation')\n",
    "plt.xlabel('Epoch')\n",
    "plt.show()"
   ]
  },
  {
   "cell_type": "code",
   "execution_count": 42,
   "metadata": {},
   "outputs": [
    {
     "data": {
      "image/png": "[encoded data removed]",
      "text/plain": [
       "<Figure size 432x288 with 1 Axes>"
      ]
     },
     "metadata": {
      "needs_background": "light"
     },
     "output_type": "display_data"
    }
   ],
   "source": [
    "x_axis = range(0, len(ap) * 10, 10)\n",
    "plt.plot(x_axis, ap, label='AP')\n",
    "plt.plot(x_axis, ap_5, label='AP .5')\n",
    "plt.plot(x_axis, ap_75, label='AP .75')\n",
    "plt.plot(x_axis, ap_m, label='AP (M)')\n",
    "plt.plot(x_axis, ap_l, label='AP (L)')\n",
    "\n",
    "plt.plot(x_axis, ap, '--', label='AR')\n",
    "plt.plot(x_axis, ap_5, '--', label='AR .5')\n",
    "plt.plot(x_axis, ap_75, '--', label='AR .75')\n",
    "plt.plot(x_axis, ap_m, '--', label='AR (M)')\n",
    "plt.plot(x_axis, ap_l, '--', label='AR (L)')\n",
    "\n",
    "\n",
    "plt.legend(loc=(1.05, 0.02))\n",
    "plt.title('Validation Evaluation')\n",
    "plt.xlabel('Epoch')\n",
    "# plt.ylabel('Epoch')\n",
    "plt.show()"
   ]
  },
  {
   "cell_type": "code",
   "execution_count": null,
   "metadata": {},
   "outputs": [],
   "source": []
  }
 ],
 "metadata": {
  "kernelspec": {
   "display_name": "Python 3.9.12 ('base')",
   "language": "python",
   "name": "python3"
  },
  "language_info": {
   "codemirror_mode": {
    "name": "ipython",
    "version": 3
   },
   "file_extension": ".py",
   "mimetype": "text/x-python",
   "name": "python",
   "nbconvert_exporter": "python",
   "pygments_lexer": "ipython3",
   "version": "3.9.12"
  },
  "orig_nbformat": 4,
  "vscode": {
   "interpreter": {
    "hash": "19d1d53a962d236aa061289c2ac16dc8e6d9648c89fe79f459ae9a3493bc67b4"
   }
  }
 },
 "nbformat": 4,
 "nbformat_minor": 2
}
