{
 "cells": [
  {
   "cell_type": "code",
   "execution_count": 1,
   "metadata": {},
   "outputs": [],
   "source": [
    "import os \n",
    "import pandas as pd\n",
    "from glob import glob "
   ]
  },
  {
   "cell_type": "code",
   "execution_count": 2,
   "metadata": {},
   "outputs": [],
   "source": [
    "file_path = 'C:/Users/user/Desktop/datasets'\n",
    "gm_file = pd.read_excel(os.path.join(file_path, 'GM_files.xlsx'), sheet_name=None)\n",
    "# gm_file.info()\n",
    "# gm_file"
   ]
  },
  {
   "cell_type": "code",
   "execution_count": 22,
   "metadata": {},
   "outputs": [],
   "source": [
    "data_path = 'D:/22.9.21/GM/openpose/Dataset'\n",
    "data_folders = os.listdir(data_path)\n",
    "# data_folders\n",
    "folders = []\n",
    "for folder in data_folders:\n",
    "    \n",
    "    if not os.path.isdir(os.path.join(data_path, folder)):\n",
    "        continue\n",
    "    \n",
    "    # print(folder)\n",
    "    data_subfolders = os.listdir(os.path.join(data_path, folder))\n",
    "    \n",
    "    for subfolder in data_subfolders:\n",
    "        \n",
    "        if not os.path.isdir(os.path.join(data_path, folder, subfolder)):\n",
    "            continue\n",
    "        \n",
    "        # print(subfolder)\n",
    "        if subfolder != 'tt':\n",
    "            folders.append(subfolder[:subfolder.index('(')])\n",
    "            # print(subfolder)\n",
    "            # print(subfolder[:subfolder.index('(')])\n",
    "            # print('==')\n",
    "    \n",
    "# folders"
   ]
  },
  {
   "cell_type": "code",
   "execution_count": 26,
   "metadata": {},
   "outputs": [
    {
     "ename": "AttributeError",
     "evalue": "'dict' object has no attribute 'iloc'",
     "output_type": "error",
     "traceback": [
      "\u001b[1;31m---------------------------------------------------------------------------\u001b[0m",
      "\u001b[1;31mAttributeError\u001b[0m                            Traceback (most recent call last)",
      "\u001b[1;32mc:\\workspace\\ViTPose\\file_reads.ipynb 셀 4\u001b[0m in \u001b[0;36m<cell line: 1>\u001b[1;34m()\u001b[0m\n\u001b[1;32m----> <a href='vscode-notebook-cell:/c%3A/workspace/ViTPose/file_reads.ipynb#X10sZmlsZQ%3D%3D?line=0'>1</a>\u001b[0m gm_file\u001b[39m.\u001b[39;49miloc[\u001b[39m1\u001b[39m, \u001b[39m'\u001b[39m\u001b[39mAssess\u001b[39m\u001b[39m'\u001b[39m]\n",
      "\u001b[1;31mAttributeError\u001b[0m: 'dict' object has no attribute 'iloc'"
     ]
    }
   ],
   "source": [
    "gm_file.iloc[1, 'Assess']"
   ]
  },
  {
   "cell_type": "code",
   "execution_count": 32,
   "metadata": {},
   "outputs": [
    {
     "data": {
      "text/html": [
       "<div>\n",
       "<style scoped>\n",
       "    .dataframe tbody tr th:only-of-type {\n",
       "        vertical-align: middle;\n",
       "    }\n",
       "\n",
       "    .dataframe tbody tr th {\n",
       "        vertical-align: top;\n",
       "    }\n",
       "\n",
       "    .dataframe thead th {\n",
       "        text-align: right;\n",
       "    }\n",
       "</style>\n",
       "<table border=\"1\" class=\"dataframe\">\n",
       "  <thead>\n",
       "    <tr style=\"text-align: right;\">\n",
       "      <th></th>\n",
       "      <th>UnitNO</th>\n",
       "      <th>Assess</th>\n",
       "    </tr>\n",
       "  </thead>\n",
       "  <tbody>\n",
       "  </tbody>\n",
       "</table>\n",
       "</div>"
      ],
      "text/plain": [
       "Empty DataFrame\n",
       "Columns: [UnitNO, Assess]\n",
       "Index: []"
      ]
     },
     "execution_count": 32,
     "metadata": {},
     "output_type": "execute_result"
    }
   ],
   "source": [
    "df = pd.DataFrame(columns=['UnitNO', 'Assess'])\n",
    "df "
   ]
  },
  {
   "cell_type": "code",
   "execution_count": 39,
   "metadata": {},
   "outputs": [
    {
     "data": {
      "text/html": [
       "<div>\n",
       "<style scoped>\n",
       "    .dataframe tbody tr th:only-of-type {\n",
       "        vertical-align: middle;\n",
       "    }\n",
       "\n",
       "    .dataframe tbody tr th {\n",
       "        vertical-align: top;\n",
       "    }\n",
       "\n",
       "    .dataframe thead th {\n",
       "        text-align: right;\n",
       "    }\n",
       "</style>\n",
       "<table border=\"1\" class=\"dataframe\">\n",
       "  <thead>\n",
       "    <tr style=\"text-align: right;\">\n",
       "      <th></th>\n",
       "      <th>UnitNO</th>\n",
       "      <th>Assess</th>\n",
       "    </tr>\n",
       "  </thead>\n",
       "  <tbody>\n",
       "    <tr>\n",
       "      <th>0</th>\n",
       "      <td>5524356</td>\n",
       "      <td>++</td>\n",
       "    </tr>\n",
       "    <tr>\n",
       "      <th>1</th>\n",
       "      <td>5532135</td>\n",
       "      <td>++</td>\n",
       "    </tr>\n",
       "    <tr>\n",
       "      <th>2</th>\n",
       "      <td>5533261</td>\n",
       "      <td>++</td>\n",
       "    </tr>\n",
       "    <tr>\n",
       "      <th>3</th>\n",
       "      <td>5545177</td>\n",
       "      <td>++</td>\n",
       "    </tr>\n",
       "    <tr>\n",
       "      <th>4</th>\n",
       "      <td>5515556</td>\n",
       "      <td>NL</td>\n",
       "    </tr>\n",
       "    <tr>\n",
       "      <th>...</th>\n",
       "      <td>...</td>\n",
       "      <td>...</td>\n",
       "    </tr>\n",
       "    <tr>\n",
       "      <th>527</th>\n",
       "      <td>7446824</td>\n",
       "      <td>None</td>\n",
       "    </tr>\n",
       "    <tr>\n",
       "      <th>528</th>\n",
       "      <td>7447348</td>\n",
       "      <td>None</td>\n",
       "    </tr>\n",
       "    <tr>\n",
       "      <th>529</th>\n",
       "      <td>7447349</td>\n",
       "      <td>None</td>\n",
       "    </tr>\n",
       "    <tr>\n",
       "      <th>530</th>\n",
       "      <td>7449637</td>\n",
       "      <td>None</td>\n",
       "    </tr>\n",
       "    <tr>\n",
       "      <th>531</th>\n",
       "      <td>7456137</td>\n",
       "      <td>None</td>\n",
       "    </tr>\n",
       "  </tbody>\n",
       "</table>\n",
       "<p>532 rows × 2 columns</p>\n",
       "</div>"
      ],
      "text/plain": [
       "      UnitNO Assess\n",
       "0    5524356     ++\n",
       "1    5532135     ++\n",
       "2    5533261     ++\n",
       "3    5545177     ++\n",
       "4    5515556     NL\n",
       "..       ...    ...\n",
       "527  7446824   None\n",
       "528  7447348   None\n",
       "529  7447349   None\n",
       "530  7449637   None\n",
       "531  7456137   None\n",
       "\n",
       "[532 rows x 2 columns]"
      ]
     },
     "execution_count": 39,
     "metadata": {},
     "output_type": "execute_result"
    }
   ],
   "source": [
    "# highlight = 'background-color: darkorange;'\n",
    "# default = ''\n",
    "df = pd.DataFrame(columns=['UnitNO', 'Assess'])\n",
    "df \n",
    "idx_df = 0\n",
    "unit_no_folders = []\n",
    "for idx, val in gm_file.items():\n",
    "    # print(val)\n",
    "    # print(type(val))\n",
    "    # print('=' * 20)\n",
    "    for ii, vv in val.iterrows():\n",
    "        # print(vv)\n",
    "        unit_no = str(vv['UnitNO'])\n",
    "        assess = vv['Assess']\n",
    "        \n",
    "        if '.' in unit_no:\n",
    "            unit_no = unit_no[:-2]\n",
    "            # print(unit_no)\n",
    "            \n",
    "        if unit_no not in folders:\n",
    "            df.loc[idx_df, 'UnitNO'] = unit_no\n",
    "            # print(len(assess))\n",
    "            if pd.isna(assess):\n",
    "                assess = 'None'\n",
    "                \n",
    "            df.loc[idx_df, 'Assess'] = assess\n",
    "            \n",
    "            idx_df += 1\n",
    "            \n",
    "df\n",
    "    "
   ]
  },
  {
   "cell_type": "code",
   "execution_count": 40,
   "metadata": {},
   "outputs": [],
   "source": [
    "df.to_csv(os.path.join(file_path, 'missing_files.csv'))"
   ]
  },
  {
   "cell_type": "code",
   "execution_count": null,
   "metadata": {},
   "outputs": [],
   "source": [
    "()"
   ]
  }
 ],
 "metadata": {
  "kernelspec": {
   "display_name": "Python 3.9.12 ('base')",
   "language": "python",
   "name": "python3"
  },
  "language_info": {
   "codemirror_mode": {
    "name": "ipython",
    "version": 3
   },
   "file_extension": ".py",
   "mimetype": "text/x-python",
   "name": "python",
   "nbconvert_exporter": "python",
   "pygments_lexer": "ipython3",
   "version": "3.9.12"
  },
  "orig_nbformat": 4,
  "vscode": {
   "interpreter": {
    "hash": "19d1d53a962d236aa061289c2ac16dc8e6d9648c89fe79f459ae9a3493bc67b4"
   }
  }
 },
 "nbformat": 4,
 "nbformat_minor": 2
}
